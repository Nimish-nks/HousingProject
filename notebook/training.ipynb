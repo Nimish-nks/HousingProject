{
 "cells": [
  {
   "cell_type": "code",
   "execution_count": 44,
   "metadata": {},
   "outputs": [],
   "source": [
    "import pandas as pd\n",
    "import numpy as np\n",
    "import sklearn\n",
    "import seaborn as sns\n",
    "import scipy as sp\n",
    "import matplotlib.pyplot as plt"
   ]
  },
  {
   "cell_type": "code",
   "execution_count": 2,
   "metadata": {},
   "outputs": [],
   "source": [
    "train_set = pd.read_csv(r'C:\\Users\\NSharma\\Documents\\datascience\\HousingProject\\dataset\\prepared_data.csv')\n",
    "target_set = pd.read_csv(r'C:\\Users\\NSharma\\Documents\\datascience\\HousingProject\\dataset\\clean_train_dataset.csv')\n",
    "test_set = pd.read_csv(r'C:\\Users\\NSharma\\Documents\\datascience\\HousingProject\\dataset\\test_set.csv')\n"
   ]
  },
  {
   "cell_type": "code",
   "execution_count": 3,
   "metadata": {},
   "outputs": [
    {
     "name": "stdout",
     "output_type": "stream",
     "text": [
      "<class 'pandas.core.frame.DataFrame'>\n",
      "RangeIndex: 16512 entries, 0 to 16511\n",
      "Data columns (total 7 columns):\n",
      " #   Column                   Non-Null Count  Dtype  \n",
      "---  ------                   --------------  -----  \n",
      " 0   Unnamed: 0               16512 non-null  int64  \n",
      " 1   longitude                16512 non-null  float64\n",
      " 2   latitude                 16512 non-null  float64\n",
      " 3   median_income            16512 non-null  float64\n",
      " 4   total_bedrooms_per_room  16512 non-null  float64\n",
      " 5   INLAND                   16512 non-null  float64\n",
      " 6   ISLAND                   16512 non-null  float64\n",
      "dtypes: float64(6), int64(1)\n",
      "memory usage: 903.1 KB\n"
     ]
    }
   ],
   "source": [
    "train_set.info()"
   ]
  },
  {
   "cell_type": "code",
   "execution_count": 4,
   "metadata": {},
   "outputs": [
    {
     "name": "stdout",
     "output_type": "stream",
     "text": [
      "<class 'pandas.core.frame.DataFrame'>\n",
      "RangeIndex: 16512 entries, 0 to 16511\n",
      "Data columns (total 14 columns):\n",
      " #   Column                    Non-Null Count  Dtype  \n",
      "---  ------                    --------------  -----  \n",
      " 0   Unnamed: 0                16512 non-null  int64  \n",
      " 1   longitude                 16512 non-null  float64\n",
      " 2   latitude                  16512 non-null  float64\n",
      " 3   housing_median_age        16512 non-null  float64\n",
      " 4   total_rooms               16512 non-null  float64\n",
      " 5   total_bedrooms            16512 non-null  float64\n",
      " 6   population                16512 non-null  float64\n",
      " 7   households                16512 non-null  float64\n",
      " 8   median_income             16512 non-null  float64\n",
      " 9   median_house_value        16512 non-null  float64\n",
      " 10  ocean_proximity           16512 non-null  object \n",
      " 11  room_per_household        16512 non-null  float64\n",
      " 12  population_per_household  16512 non-null  float64\n",
      " 13  total_bedrooms_per_room   16512 non-null  float64\n",
      "dtypes: float64(12), int64(1), object(1)\n",
      "memory usage: 1.8+ MB\n"
     ]
    }
   ],
   "source": [
    "target_set.info()"
   ]
  },
  {
   "cell_type": "code",
   "execution_count": 5,
   "metadata": {},
   "outputs": [
    {
     "name": "stdout",
     "output_type": "stream",
     "text": [
      "<class 'pandas.core.frame.DataFrame'>\n",
      "RangeIndex: 4128 entries, 0 to 4127\n",
      "Data columns (total 11 columns):\n",
      " #   Column              Non-Null Count  Dtype  \n",
      "---  ------              --------------  -----  \n",
      " 0   Unnamed: 0          4128 non-null   int64  \n",
      " 1   longitude           4128 non-null   float64\n",
      " 2   latitude            4128 non-null   float64\n",
      " 3   housing_median_age  4128 non-null   float64\n",
      " 4   total_rooms         4128 non-null   float64\n",
      " 5   total_bedrooms      4084 non-null   float64\n",
      " 6   population          4128 non-null   float64\n",
      " 7   households          4128 non-null   float64\n",
      " 8   median_income       4128 non-null   float64\n",
      " 9   median_house_value  4128 non-null   float64\n",
      " 10  ocean_proximity     4128 non-null   object \n",
      "dtypes: float64(9), int64(1), object(1)\n",
      "memory usage: 354.9+ KB\n"
     ]
    }
   ],
   "source": [
    "test_set.info()"
   ]
  },
  {
   "cell_type": "code",
   "execution_count": 6,
   "metadata": {},
   "outputs": [],
   "source": [
    "train_df = train_set.drop('Unnamed: 0',axis=1)\n",
    "target_df = target_set.drop(['Unnamed: 0', 'longitude', 'latitude', 'housing_median_age',\n",
    "       'total_rooms', 'total_bedrooms', 'population', 'households',\n",
    "       'median_income', 'ocean_proximity',\n",
    "       'room_per_household', 'population_per_household',\n",
    "       'total_bedrooms_per_room'],axis=1)\n",
    "\n",
    "test_df = test_set.drop('Unnamed: 0',axis=1)\n"
   ]
  },
  {
   "cell_type": "code",
   "execution_count": 7,
   "metadata": {},
   "outputs": [
    {
     "data": {
      "text/html": [
       "<div>\n",
       "<style scoped>\n",
       "    .dataframe tbody tr th:only-of-type {\n",
       "        vertical-align: middle;\n",
       "    }\n",
       "\n",
       "    .dataframe tbody tr th {\n",
       "        vertical-align: top;\n",
       "    }\n",
       "\n",
       "    .dataframe thead th {\n",
       "        text-align: right;\n",
       "    }\n",
       "</style>\n",
       "<table border=\"1\" class=\"dataframe\">\n",
       "  <thead>\n",
       "    <tr style=\"text-align: right;\">\n",
       "      <th></th>\n",
       "      <th>median_house_value</th>\n",
       "    </tr>\n",
       "  </thead>\n",
       "  <tbody>\n",
       "    <tr>\n",
       "      <th>0</th>\n",
       "      <td>291000.0</td>\n",
       "    </tr>\n",
       "    <tr>\n",
       "      <th>1</th>\n",
       "      <td>156100.0</td>\n",
       "    </tr>\n",
       "    <tr>\n",
       "      <th>2</th>\n",
       "      <td>353900.0</td>\n",
       "    </tr>\n",
       "    <tr>\n",
       "      <th>3</th>\n",
       "      <td>241200.0</td>\n",
       "    </tr>\n",
       "    <tr>\n",
       "      <th>4</th>\n",
       "      <td>53800.0</td>\n",
       "    </tr>\n",
       "  </tbody>\n",
       "</table>\n",
       "</div>"
      ],
      "text/plain": [
       "   median_house_value\n",
       "0            291000.0\n",
       "1            156100.0\n",
       "2            353900.0\n",
       "3            241200.0\n",
       "4             53800.0"
      ]
     },
     "execution_count": 7,
     "metadata": {},
     "output_type": "execute_result"
    }
   ],
   "source": [
    "target_df.head()"
   ]
  },
  {
   "cell_type": "code",
   "execution_count": 8,
   "metadata": {},
   "outputs": [
    {
     "data": {
      "text/html": [
       "<div>\n",
       "<style scoped>\n",
       "    .dataframe tbody tr th:only-of-type {\n",
       "        vertical-align: middle;\n",
       "    }\n",
       "\n",
       "    .dataframe tbody tr th {\n",
       "        vertical-align: top;\n",
       "    }\n",
       "\n",
       "    .dataframe thead th {\n",
       "        text-align: right;\n",
       "    }\n",
       "</style>\n",
       "<table border=\"1\" class=\"dataframe\">\n",
       "  <thead>\n",
       "    <tr style=\"text-align: right;\">\n",
       "      <th></th>\n",
       "      <th>longitude</th>\n",
       "      <th>latitude</th>\n",
       "      <th>median_income</th>\n",
       "      <th>total_bedrooms_per_room</th>\n",
       "      <th>INLAND</th>\n",
       "      <th>ISLAND</th>\n",
       "    </tr>\n",
       "  </thead>\n",
       "  <tbody>\n",
       "    <tr>\n",
       "      <th>0</th>\n",
       "      <td>1.172958</td>\n",
       "      <td>-1.350374</td>\n",
       "      <td>0.379686</td>\n",
       "      <td>-0.456507</td>\n",
       "      <td>-0.685225</td>\n",
       "      <td>-0.017404</td>\n",
       "    </tr>\n",
       "    <tr>\n",
       "      <th>1</th>\n",
       "      <td>1.267990</td>\n",
       "      <td>-1.378495</td>\n",
       "      <td>0.420056</td>\n",
       "      <td>-0.526113</td>\n",
       "      <td>-0.685225</td>\n",
       "      <td>-0.017404</td>\n",
       "    </tr>\n",
       "    <tr>\n",
       "      <th>2</th>\n",
       "      <td>-1.352898</td>\n",
       "      <td>0.988319</td>\n",
       "      <td>-0.092317</td>\n",
       "      <td>0.198892</td>\n",
       "      <td>-0.685225</td>\n",
       "      <td>-0.017404</td>\n",
       "    </tr>\n",
       "    <tr>\n",
       "      <th>3</th>\n",
       "      <td>-1.127822</td>\n",
       "      <td>0.758668</td>\n",
       "      <td>0.682979</td>\n",
       "      <td>-0.908892</td>\n",
       "      <td>-0.685225</td>\n",
       "      <td>-0.017404</td>\n",
       "    </tr>\n",
       "    <tr>\n",
       "      <th>4</th>\n",
       "      <td>1.793168</td>\n",
       "      <td>-1.083229</td>\n",
       "      <td>-1.255522</td>\n",
       "      <td>-0.348929</td>\n",
       "      <td>1.459286</td>\n",
       "      <td>-0.017404</td>\n",
       "    </tr>\n",
       "  </tbody>\n",
       "</table>\n",
       "</div>"
      ],
      "text/plain": [
       "   longitude  latitude  median_income  total_bedrooms_per_room    INLAND  \\\n",
       "0   1.172958 -1.350374       0.379686                -0.456507 -0.685225   \n",
       "1   1.267990 -1.378495       0.420056                -0.526113 -0.685225   \n",
       "2  -1.352898  0.988319      -0.092317                 0.198892 -0.685225   \n",
       "3  -1.127822  0.758668       0.682979                -0.908892 -0.685225   \n",
       "4   1.793168 -1.083229      -1.255522                -0.348929  1.459286   \n",
       "\n",
       "     ISLAND  \n",
       "0 -0.017404  \n",
       "1 -0.017404  \n",
       "2 -0.017404  \n",
       "3 -0.017404  \n",
       "4 -0.017404  "
      ]
     },
     "execution_count": 8,
     "metadata": {},
     "output_type": "execute_result"
    }
   ],
   "source": [
    "train_df.head()"
   ]
  },
  {
   "cell_type": "code",
   "execution_count": 9,
   "metadata": {},
   "outputs": [
    {
     "data": {
      "text/html": [
       "<div>\n",
       "<style scoped>\n",
       "    .dataframe tbody tr th:only-of-type {\n",
       "        vertical-align: middle;\n",
       "    }\n",
       "\n",
       "    .dataframe tbody tr th {\n",
       "        vertical-align: top;\n",
       "    }\n",
       "\n",
       "    .dataframe thead th {\n",
       "        text-align: right;\n",
       "    }\n",
       "</style>\n",
       "<table border=\"1\" class=\"dataframe\">\n",
       "  <thead>\n",
       "    <tr style=\"text-align: right;\">\n",
       "      <th></th>\n",
       "      <th>longitude</th>\n",
       "      <th>latitude</th>\n",
       "      <th>housing_median_age</th>\n",
       "      <th>total_rooms</th>\n",
       "      <th>total_bedrooms</th>\n",
       "      <th>population</th>\n",
       "      <th>households</th>\n",
       "      <th>median_income</th>\n",
       "      <th>median_house_value</th>\n",
       "      <th>ocean_proximity</th>\n",
       "    </tr>\n",
       "  </thead>\n",
       "  <tbody>\n",
       "    <tr>\n",
       "      <th>0</th>\n",
       "      <td>-122.38</td>\n",
       "      <td>40.67</td>\n",
       "      <td>10.0</td>\n",
       "      <td>2281.0</td>\n",
       "      <td>444.0</td>\n",
       "      <td>1274.0</td>\n",
       "      <td>438.0</td>\n",
       "      <td>2.2120</td>\n",
       "      <td>65600.0</td>\n",
       "      <td>INLAND</td>\n",
       "    </tr>\n",
       "    <tr>\n",
       "      <th>1</th>\n",
       "      <td>-118.37</td>\n",
       "      <td>33.83</td>\n",
       "      <td>35.0</td>\n",
       "      <td>1207.0</td>\n",
       "      <td>207.0</td>\n",
       "      <td>601.0</td>\n",
       "      <td>213.0</td>\n",
       "      <td>4.7308</td>\n",
       "      <td>353400.0</td>\n",
       "      <td>&lt;1H OCEAN</td>\n",
       "    </tr>\n",
       "    <tr>\n",
       "      <th>2</th>\n",
       "      <td>-117.24</td>\n",
       "      <td>32.72</td>\n",
       "      <td>39.0</td>\n",
       "      <td>3089.0</td>\n",
       "      <td>431.0</td>\n",
       "      <td>1175.0</td>\n",
       "      <td>432.0</td>\n",
       "      <td>7.5925</td>\n",
       "      <td>466700.0</td>\n",
       "      <td>NEAR OCEAN</td>\n",
       "    </tr>\n",
       "    <tr>\n",
       "      <th>3</th>\n",
       "      <td>-118.44</td>\n",
       "      <td>34.05</td>\n",
       "      <td>18.0</td>\n",
       "      <td>4780.0</td>\n",
       "      <td>1192.0</td>\n",
       "      <td>1886.0</td>\n",
       "      <td>1036.0</td>\n",
       "      <td>4.4674</td>\n",
       "      <td>500001.0</td>\n",
       "      <td>&lt;1H OCEAN</td>\n",
       "    </tr>\n",
       "    <tr>\n",
       "      <th>4</th>\n",
       "      <td>-118.44</td>\n",
       "      <td>34.18</td>\n",
       "      <td>33.0</td>\n",
       "      <td>2127.0</td>\n",
       "      <td>414.0</td>\n",
       "      <td>1056.0</td>\n",
       "      <td>391.0</td>\n",
       "      <td>4.3750</td>\n",
       "      <td>286100.0</td>\n",
       "      <td>&lt;1H OCEAN</td>\n",
       "    </tr>\n",
       "  </tbody>\n",
       "</table>\n",
       "</div>"
      ],
      "text/plain": [
       "   longitude  latitude  housing_median_age  total_rooms  total_bedrooms  \\\n",
       "0    -122.38     40.67                10.0       2281.0           444.0   \n",
       "1    -118.37     33.83                35.0       1207.0           207.0   \n",
       "2    -117.24     32.72                39.0       3089.0           431.0   \n",
       "3    -118.44     34.05                18.0       4780.0          1192.0   \n",
       "4    -118.44     34.18                33.0       2127.0           414.0   \n",
       "\n",
       "   population  households  median_income  median_house_value ocean_proximity  \n",
       "0      1274.0       438.0         2.2120             65600.0          INLAND  \n",
       "1       601.0       213.0         4.7308            353400.0       <1H OCEAN  \n",
       "2      1175.0       432.0         7.5925            466700.0      NEAR OCEAN  \n",
       "3      1886.0      1036.0         4.4674            500001.0       <1H OCEAN  \n",
       "4      1056.0       391.0         4.3750            286100.0       <1H OCEAN  "
      ]
     },
     "execution_count": 9,
     "metadata": {},
     "output_type": "execute_result"
    }
   ],
   "source": [
    "test_df.head()\n"
   ]
  },
  {
   "cell_type": "markdown",
   "metadata": {},
   "source": [
    "# Step-7: Preprocessing the test set"
   ]
  },
  {
   "cell_type": "code",
   "execution_count": 10,
   "metadata": {},
   "outputs": [
    {
     "name": "stdout",
     "output_type": "stream",
     "text": [
      "<class 'pandas.core.frame.DataFrame'>\n",
      "RangeIndex: 4128 entries, 0 to 4127\n",
      "Data columns (total 10 columns):\n",
      " #   Column              Non-Null Count  Dtype  \n",
      "---  ------              --------------  -----  \n",
      " 0   longitude           4128 non-null   float64\n",
      " 1   latitude            4128 non-null   float64\n",
      " 2   housing_median_age  4128 non-null   float64\n",
      " 3   total_rooms         4128 non-null   float64\n",
      " 4   total_bedrooms      4084 non-null   float64\n",
      " 5   population          4128 non-null   float64\n",
      " 6   households          4128 non-null   float64\n",
      " 7   median_income       4128 non-null   float64\n",
      " 8   median_house_value  4128 non-null   float64\n",
      " 9   ocean_proximity     4128 non-null   object \n",
      "dtypes: float64(9), object(1)\n",
      "memory usage: 322.6+ KB\n"
     ]
    }
   ],
   "source": [
    "test_df.info()"
   ]
  },
  {
   "cell_type": "markdown",
   "metadata": {},
   "source": [
    "Let's fix missing values in column 'total_bedrooms':"
   ]
  },
  {
   "cell_type": "code",
   "execution_count": 11,
   "metadata": {},
   "outputs": [],
   "source": [
    "largest_freq =test_df['total_bedrooms'].value_counts().idxmax()"
   ]
  },
  {
   "cell_type": "code",
   "execution_count": 12,
   "metadata": {},
   "outputs": [
    {
     "data": {
      "text/plain": [
       "total_bedrooms\n",
       "361.0     19\n",
       "369.0     15\n",
       "344.0     15\n",
       "256.0     14\n",
       "339.0     14\n",
       "          ..\n",
       "5290.0     1\n",
       "2098.0     1\n",
       "850.0      1\n",
       "1260.0     1\n",
       "2244.0     1\n",
       "Name: count, Length: 1197, dtype: int64"
      ]
     },
     "execution_count": 12,
     "metadata": {},
     "output_type": "execute_result"
    }
   ],
   "source": [
    "test_df['total_bedrooms'].value_counts()"
   ]
  },
  {
   "cell_type": "markdown",
   "metadata": {},
   "source": [
    "Let's fill missing values with 361."
   ]
  },
  {
   "cell_type": "code",
   "execution_count": 13,
   "metadata": {},
   "outputs": [],
   "source": [
    "test_df['total_bedrooms'].replace(np.nan,largest_freq,inplace=True)"
   ]
  },
  {
   "cell_type": "code",
   "execution_count": 14,
   "metadata": {},
   "outputs": [
    {
     "name": "stdout",
     "output_type": "stream",
     "text": [
      "<class 'pandas.core.series.Series'>\n",
      "RangeIndex: 4128 entries, 0 to 4127\n",
      "Series name: total_bedrooms\n",
      "Non-Null Count  Dtype  \n",
      "--------------  -----  \n",
      "4128 non-null   float64\n",
      "dtypes: float64(1)\n",
      "memory usage: 32.4 KB\n"
     ]
    }
   ],
   "source": [
    "test_df['total_bedrooms'].info()"
   ]
  },
  {
   "cell_type": "code",
   "execution_count": 15,
   "metadata": {},
   "outputs": [
    {
     "name": "stdout",
     "output_type": "stream",
     "text": [
      "<class 'pandas.core.frame.DataFrame'>\n",
      "RangeIndex: 4128 entries, 0 to 4127\n",
      "Data columns (total 10 columns):\n",
      " #   Column              Non-Null Count  Dtype  \n",
      "---  ------              --------------  -----  \n",
      " 0   longitude           4128 non-null   float64\n",
      " 1   latitude            4128 non-null   float64\n",
      " 2   housing_median_age  4128 non-null   float64\n",
      " 3   total_rooms         4128 non-null   float64\n",
      " 4   total_bedrooms      4128 non-null   float64\n",
      " 5   population          4128 non-null   float64\n",
      " 6   households          4128 non-null   float64\n",
      " 7   median_income       4128 non-null   float64\n",
      " 8   median_house_value  4128 non-null   float64\n",
      " 9   ocean_proximity     4128 non-null   object \n",
      "dtypes: float64(9), object(1)\n",
      "memory usage: 322.6+ KB\n"
     ]
    }
   ],
   "source": [
    "test_df.info()"
   ]
  },
  {
   "cell_type": "markdown",
   "metadata": {},
   "source": [
    "Let's combine attributes and drop unncessary ones"
   ]
  },
  {
   "cell_type": "code",
   "execution_count": 16,
   "metadata": {},
   "outputs": [],
   "source": [
    "test_df['room_per_household'] = test_df['total_rooms']/test_df['households']\n",
    "test_df['population_per_household'] = test_df['population']/test_df['households']\n",
    "test_df['total_bedrooms_per_room'] = test_df['total_bedrooms']/test_df['total_rooms']"
   ]
  },
  {
   "cell_type": "markdown",
   "metadata": {},
   "source": [
    "Let's see categorical variable:\n"
   ]
  },
  {
   "cell_type": "code",
   "execution_count": 17,
   "metadata": {},
   "outputs": [],
   "source": [
    "dummy = pd.get_dummies(test_df['ocean_proximity'])"
   ]
  },
  {
   "cell_type": "code",
   "execution_count": 18,
   "metadata": {},
   "outputs": [
    {
     "data": {
      "text/plain": [
       "Index(['<1H OCEAN', 'INLAND', 'NEAR BAY', 'NEAR OCEAN'], dtype='object')"
      ]
     },
     "execution_count": 18,
     "metadata": {},
     "output_type": "execute_result"
    }
   ],
   "source": [
    "dummy.columns"
   ]
  },
  {
   "cell_type": "code",
   "execution_count": 19,
   "metadata": {},
   "outputs": [],
   "source": [
    "dummy.drop(['<1H OCEAN','NEAR OCEAN'],axis=1,inplace=True)"
   ]
  },
  {
   "cell_type": "code",
   "execution_count": 20,
   "metadata": {},
   "outputs": [],
   "source": [
    "dummy[['INLAND','NEAR BAY']]=dummy[['INLAND','NEAR BAY']].astype('int')"
   ]
  },
  {
   "cell_type": "code",
   "execution_count": 21,
   "metadata": {},
   "outputs": [],
   "source": [
    "dummy.rename(columns={\"NEAR BAY\":\"ISLAND\"},inplace=True)"
   ]
  },
  {
   "cell_type": "code",
   "execution_count": 22,
   "metadata": {},
   "outputs": [
    {
     "data": {
      "text/plain": [
       "0       0\n",
       "1       0\n",
       "2       0\n",
       "3       0\n",
       "4       0\n",
       "       ..\n",
       "4123    0\n",
       "4124    1\n",
       "4125    0\n",
       "4126    0\n",
       "4127    0\n",
       "Name: ISLAND, Length: 4128, dtype: int32"
      ]
     },
     "execution_count": 22,
     "metadata": {},
     "output_type": "execute_result"
    }
   ],
   "source": [
    "dummy['ISLAND'].fillna(0)"
   ]
  },
  {
   "cell_type": "code",
   "execution_count": 23,
   "metadata": {},
   "outputs": [
    {
     "data": {
      "text/html": [
       "<div>\n",
       "<style scoped>\n",
       "    .dataframe tbody tr th:only-of-type {\n",
       "        vertical-align: middle;\n",
       "    }\n",
       "\n",
       "    .dataframe tbody tr th {\n",
       "        vertical-align: top;\n",
       "    }\n",
       "\n",
       "    .dataframe thead th {\n",
       "        text-align: right;\n",
       "    }\n",
       "</style>\n",
       "<table border=\"1\" class=\"dataframe\">\n",
       "  <thead>\n",
       "    <tr style=\"text-align: right;\">\n",
       "      <th></th>\n",
       "      <th>INLAND</th>\n",
       "      <th>ISLAND</th>\n",
       "    </tr>\n",
       "  </thead>\n",
       "  <tbody>\n",
       "    <tr>\n",
       "      <th>0</th>\n",
       "      <td>1</td>\n",
       "      <td>0</td>\n",
       "    </tr>\n",
       "    <tr>\n",
       "      <th>1</th>\n",
       "      <td>0</td>\n",
       "      <td>0</td>\n",
       "    </tr>\n",
       "    <tr>\n",
       "      <th>2</th>\n",
       "      <td>0</td>\n",
       "      <td>0</td>\n",
       "    </tr>\n",
       "    <tr>\n",
       "      <th>3</th>\n",
       "      <td>0</td>\n",
       "      <td>0</td>\n",
       "    </tr>\n",
       "    <tr>\n",
       "      <th>4</th>\n",
       "      <td>0</td>\n",
       "      <td>0</td>\n",
       "    </tr>\n",
       "  </tbody>\n",
       "</table>\n",
       "</div>"
      ],
      "text/plain": [
       "   INLAND  ISLAND\n",
       "0       1       0\n",
       "1       0       0\n",
       "2       0       0\n",
       "3       0       0\n",
       "4       0       0"
      ]
     },
     "execution_count": 23,
     "metadata": {},
     "output_type": "execute_result"
    }
   ],
   "source": [
    "dummy.head()"
   ]
  },
  {
   "cell_type": "code",
   "execution_count": 24,
   "metadata": {},
   "outputs": [],
   "source": [
    "test_df  = pd.concat([test_df,dummy],axis=1)"
   ]
  },
  {
   "cell_type": "code",
   "execution_count": 25,
   "metadata": {},
   "outputs": [
    {
     "data": {
      "text/plain": [
       "Index(['longitude', 'latitude', 'housing_median_age', 'total_rooms',\n",
       "       'total_bedrooms', 'population', 'households', 'median_income',\n",
       "       'median_house_value', 'ocean_proximity', 'room_per_household',\n",
       "       'population_per_household', 'total_bedrooms_per_room', 'INLAND',\n",
       "       'ISLAND'],\n",
       "      dtype='object')"
      ]
     },
     "execution_count": 25,
     "metadata": {},
     "output_type": "execute_result"
    }
   ],
   "source": [
    "test_df.columns"
   ]
  },
  {
   "cell_type": "code",
   "execution_count": 26,
   "metadata": {},
   "outputs": [],
   "source": [
    "test_df.drop(['housing_median_age', 'total_rooms',\n",
    "       'total_bedrooms', 'population', 'households', \n",
    "       'ocean_proximity', 'room_per_household',\n",
    "       'population_per_household'],axis=1,inplace=True)"
   ]
  },
  {
   "cell_type": "code",
   "execution_count": 28,
   "metadata": {},
   "outputs": [
    {
     "data": {
      "text/plain": [
       "Index(['longitude', 'latitude', 'median_income', 'median_house_value',\n",
       "       'total_bedrooms_per_room', 'INLAND', 'ISLAND'],\n",
       "      dtype='object')"
      ]
     },
     "execution_count": 28,
     "metadata": {},
     "output_type": "execute_result"
    }
   ],
   "source": [
    "test_df.columns"
   ]
  },
  {
   "cell_type": "code",
   "execution_count": 29,
   "metadata": {},
   "outputs": [],
   "source": [
    "target_test = test_df.drop(['longitude', 'latitude', 'median_income','total_bedrooms_per_room', 'INLAND', 'ISLAND'],axis=1)"
   ]
  },
  {
   "cell_type": "code",
   "execution_count": 30,
   "metadata": {},
   "outputs": [
    {
     "data": {
      "text/plain": [
       "Index(['median_house_value'], dtype='object')"
      ]
     },
     "execution_count": 30,
     "metadata": {},
     "output_type": "execute_result"
    }
   ],
   "source": [
    "target_test.columns"
   ]
  },
  {
   "cell_type": "code",
   "execution_count": 33,
   "metadata": {},
   "outputs": [],
   "source": [
    "test_df.drop(['median_house_value'],axis=1,inplace=True)"
   ]
  },
  {
   "cell_type": "markdown",
   "metadata": {},
   "source": [
    "Let's normalize"
   ]
  },
  {
   "cell_type": "code",
   "execution_count": 34,
   "metadata": {},
   "outputs": [
    {
     "data": {
      "text/plain": [
       "Index(['longitude', 'latitude', 'median_income', 'total_bedrooms_per_room',\n",
       "       'INLAND', 'ISLAND'],\n",
       "      dtype='object')"
      ]
     },
     "execution_count": 34,
     "metadata": {},
     "output_type": "execute_result"
    }
   ],
   "source": [
    "test_df.columns"
   ]
  },
  {
   "cell_type": "code",
   "execution_count": 35,
   "metadata": {},
   "outputs": [],
   "source": [
    "for col in test_df.columns.to_list():\n",
    "    test_df[col]=(test_df[col]-test_df[col].mean())/test_df[col].std()"
   ]
  },
  {
   "cell_type": "code",
   "execution_count": 36,
   "metadata": {},
   "outputs": [
    {
     "data": {
      "text/html": [
       "<div>\n",
       "<style scoped>\n",
       "    .dataframe tbody tr th:only-of-type {\n",
       "        vertical-align: middle;\n",
       "    }\n",
       "\n",
       "    .dataframe tbody tr th {\n",
       "        vertical-align: top;\n",
       "    }\n",
       "\n",
       "    .dataframe thead th {\n",
       "        text-align: right;\n",
       "    }\n",
       "</style>\n",
       "<table border=\"1\" class=\"dataframe\">\n",
       "  <thead>\n",
       "    <tr style=\"text-align: right;\">\n",
       "      <th></th>\n",
       "      <th>longitude</th>\n",
       "      <th>latitude</th>\n",
       "      <th>median_income</th>\n",
       "      <th>total_bedrooms_per_room</th>\n",
       "      <th>INLAND</th>\n",
       "      <th>ISLAND</th>\n",
       "    </tr>\n",
       "  </thead>\n",
       "  <tbody>\n",
       "    <tr>\n",
       "      <th>0</th>\n",
       "      <td>-1.381871</td>\n",
       "      <td>2.347302</td>\n",
       "      <td>-0.902554</td>\n",
       "      <td>-0.296192</td>\n",
       "      <td>1.495695</td>\n",
       "      <td>-0.355386</td>\n",
       "    </tr>\n",
       "    <tr>\n",
       "      <th>1</th>\n",
       "      <td>0.602865</td>\n",
       "      <td>-0.841041</td>\n",
       "      <td>0.445007</td>\n",
       "      <td>-0.672616</td>\n",
       "      <td>-0.668423</td>\n",
       "      <td>-0.355386</td>\n",
       "    </tr>\n",
       "    <tr>\n",
       "      <th>2</th>\n",
       "      <td>1.162155</td>\n",
       "      <td>-1.358447</td>\n",
       "      <td>1.976020</td>\n",
       "      <td>-1.192449</td>\n",
       "      <td>-0.668423</td>\n",
       "      <td>-0.355386</td>\n",
       "    </tr>\n",
       "    <tr>\n",
       "      <th>3</th>\n",
       "      <td>0.568219</td>\n",
       "      <td>-0.738492</td>\n",
       "      <td>0.304088</td>\n",
       "      <td>0.593509</td>\n",
       "      <td>-0.668423</td>\n",
       "      <td>-0.355386</td>\n",
       "    </tr>\n",
       "    <tr>\n",
       "      <th>4</th>\n",
       "      <td>0.568219</td>\n",
       "      <td>-0.677895</td>\n",
       "      <td>0.254653</td>\n",
       "      <td>-0.296373</td>\n",
       "      <td>-0.668423</td>\n",
       "      <td>-0.355386</td>\n",
       "    </tr>\n",
       "  </tbody>\n",
       "</table>\n",
       "</div>"
      ],
      "text/plain": [
       "   longitude  latitude  median_income  total_bedrooms_per_room    INLAND  \\\n",
       "0  -1.381871  2.347302      -0.902554                -0.296192  1.495695   \n",
       "1   0.602865 -0.841041       0.445007                -0.672616 -0.668423   \n",
       "2   1.162155 -1.358447       1.976020                -1.192449 -0.668423   \n",
       "3   0.568219 -0.738492       0.304088                 0.593509 -0.668423   \n",
       "4   0.568219 -0.677895       0.254653                -0.296373 -0.668423   \n",
       "\n",
       "     ISLAND  \n",
       "0 -0.355386  \n",
       "1 -0.355386  \n",
       "2 -0.355386  \n",
       "3 -0.355386  \n",
       "4 -0.355386  "
      ]
     },
     "execution_count": 36,
     "metadata": {},
     "output_type": "execute_result"
    }
   ],
   "source": [
    "test_df.head()"
   ]
  },
  {
   "cell_type": "markdown",
   "metadata": {},
   "source": [
    "# Step - 7: Model Training and evaluation"
   ]
  },
  {
   "cell_type": "markdown",
   "metadata": {},
   "source": [
    "Let's start with multiple linear regression:"
   ]
  },
  {
   "cell_type": "code",
   "execution_count": 38,
   "metadata": {},
   "outputs": [],
   "source": [
    "from sklearn.linear_model import LinearRegression "
   ]
  },
  {
   "cell_type": "code",
   "execution_count": 39,
   "metadata": {},
   "outputs": [],
   "source": [
    "lm=LinearRegression()"
   ]
  },
  {
   "cell_type": "code",
   "execution_count": 40,
   "metadata": {},
   "outputs": [],
   "source": [
    "Z=train_df[train_df.columns.to_list()]"
   ]
  },
  {
   "cell_type": "code",
   "execution_count": 42,
   "metadata": {},
   "outputs": [
    {
     "data": {
      "text/html": [
       "<style>#sk-container-id-1 {color: black;}#sk-container-id-1 pre{padding: 0;}#sk-container-id-1 div.sk-toggleable {background-color: white;}#sk-container-id-1 label.sk-toggleable__label {cursor: pointer;display: block;width: 100%;margin-bottom: 0;padding: 0.3em;box-sizing: border-box;text-align: center;}#sk-container-id-1 label.sk-toggleable__label-arrow:before {content: \"▸\";float: left;margin-right: 0.25em;color: #696969;}#sk-container-id-1 label.sk-toggleable__label-arrow:hover:before {color: black;}#sk-container-id-1 div.sk-estimator:hover label.sk-toggleable__label-arrow:before {color: black;}#sk-container-id-1 div.sk-toggleable__content {max-height: 0;max-width: 0;overflow: hidden;text-align: left;background-color: #f0f8ff;}#sk-container-id-1 div.sk-toggleable__content pre {margin: 0.2em;color: black;border-radius: 0.25em;background-color: #f0f8ff;}#sk-container-id-1 input.sk-toggleable__control:checked~div.sk-toggleable__content {max-height: 200px;max-width: 100%;overflow: auto;}#sk-container-id-1 input.sk-toggleable__control:checked~label.sk-toggleable__label-arrow:before {content: \"▾\";}#sk-container-id-1 div.sk-estimator input.sk-toggleable__control:checked~label.sk-toggleable__label {background-color: #d4ebff;}#sk-container-id-1 div.sk-label input.sk-toggleable__control:checked~label.sk-toggleable__label {background-color: #d4ebff;}#sk-container-id-1 input.sk-hidden--visually {border: 0;clip: rect(1px 1px 1px 1px);clip: rect(1px, 1px, 1px, 1px);height: 1px;margin: -1px;overflow: hidden;padding: 0;position: absolute;width: 1px;}#sk-container-id-1 div.sk-estimator {font-family: monospace;background-color: #f0f8ff;border: 1px dotted black;border-radius: 0.25em;box-sizing: border-box;margin-bottom: 0.5em;}#sk-container-id-1 div.sk-estimator:hover {background-color: #d4ebff;}#sk-container-id-1 div.sk-parallel-item::after {content: \"\";width: 100%;border-bottom: 1px solid gray;flex-grow: 1;}#sk-container-id-1 div.sk-label:hover label.sk-toggleable__label {background-color: #d4ebff;}#sk-container-id-1 div.sk-serial::before {content: \"\";position: absolute;border-left: 1px solid gray;box-sizing: border-box;top: 0;bottom: 0;left: 50%;z-index: 0;}#sk-container-id-1 div.sk-serial {display: flex;flex-direction: column;align-items: center;background-color: white;padding-right: 0.2em;padding-left: 0.2em;position: relative;}#sk-container-id-1 div.sk-item {position: relative;z-index: 1;}#sk-container-id-1 div.sk-parallel {display: flex;align-items: stretch;justify-content: center;background-color: white;position: relative;}#sk-container-id-1 div.sk-item::before, #sk-container-id-1 div.sk-parallel-item::before {content: \"\";position: absolute;border-left: 1px solid gray;box-sizing: border-box;top: 0;bottom: 0;left: 50%;z-index: -1;}#sk-container-id-1 div.sk-parallel-item {display: flex;flex-direction: column;z-index: 1;position: relative;background-color: white;}#sk-container-id-1 div.sk-parallel-item:first-child::after {align-self: flex-end;width: 50%;}#sk-container-id-1 div.sk-parallel-item:last-child::after {align-self: flex-start;width: 50%;}#sk-container-id-1 div.sk-parallel-item:only-child::after {width: 0;}#sk-container-id-1 div.sk-dashed-wrapped {border: 1px dashed gray;margin: 0 0.4em 0.5em 0.4em;box-sizing: border-box;padding-bottom: 0.4em;background-color: white;}#sk-container-id-1 div.sk-label label {font-family: monospace;font-weight: bold;display: inline-block;line-height: 1.2em;}#sk-container-id-1 div.sk-label-container {text-align: center;}#sk-container-id-1 div.sk-container {/* jupyter's `normalize.less` sets `[hidden] { display: none; }` but bootstrap.min.css set `[hidden] { display: none !important; }` so we also need the `!important` here to be able to override the default hidden behavior on the sphinx rendered scikit-learn.org. See: https://github.com/scikit-learn/scikit-learn/issues/21755 */display: inline-block !important;position: relative;}#sk-container-id-1 div.sk-text-repr-fallback {display: none;}</style><div id=\"sk-container-id-1\" class=\"sk-top-container\"><div class=\"sk-text-repr-fallback\"><pre>LinearRegression()</pre><b>In a Jupyter environment, please rerun this cell to show the HTML representation or trust the notebook. <br />On GitHub, the HTML representation is unable to render, please try loading this page with nbviewer.org.</b></div><div class=\"sk-container\" hidden><div class=\"sk-item\"><div class=\"sk-estimator sk-toggleable\"><input class=\"sk-toggleable__control sk-hidden--visually\" id=\"sk-estimator-id-1\" type=\"checkbox\" checked><label for=\"sk-estimator-id-1\" class=\"sk-toggleable__label sk-toggleable__label-arrow\">LinearRegression</label><div class=\"sk-toggleable__content\"><pre>LinearRegression()</pre></div></div></div></div></div>"
      ],
      "text/plain": [
       "LinearRegression()"
      ]
     },
     "execution_count": 42,
     "metadata": {},
     "output_type": "execute_result"
    }
   ],
   "source": [
    "lm.fit(Z,target_df)"
   ]
  },
  {
   "cell_type": "code",
   "execution_count": 43,
   "metadata": {},
   "outputs": [],
   "source": [
    "y_hat=lm.predict(test_df)\n"
   ]
  },
  {
   "cell_type": "markdown",
   "metadata": {},
   "source": [
    "Let's try to plot and see"
   ]
  },
  {
   "cell_type": "code",
   "execution_count": 46,
   "metadata": {},
   "outputs": [
    {
     "name": "stderr",
     "output_type": "stream",
     "text": [
      "C:\\Users\\NSharma\\AppData\\Local\\Temp\\ipykernel_2412\\3739869737.py:3: UserWarning: \n",
      "\n",
      "`distplot` is a deprecated function and will be removed in seaborn v0.14.0.\n",
      "\n",
      "Please adapt your code to use either `displot` (a figure-level function with\n",
      "similar flexibility) or `kdeplot` (an axes-level function for kernel density plots).\n",
      "\n",
      "For a guide to updating your code to use the new functions, please see\n",
      "https://gist.github.com/mwaskom/de44147ed2974457ad6372750bbe5751\n",
      "\n",
      "  ax1=sns.distplot(target_test,hist=False,color='r',label='Actual Value')\n",
      "c:\\Users\\NSharma\\Documents\\datascience\\HousingProject\\venv\\Lib\\site-packages\\seaborn\\_oldcore.py:1498: FutureWarning: is_categorical_dtype is deprecated and will be removed in a future version. Use isinstance(dtype, CategoricalDtype) instead\n",
      "  if pd.api.types.is_categorical_dtype(vector):\n",
      "c:\\Users\\NSharma\\Documents\\datascience\\HousingProject\\venv\\Lib\\site-packages\\seaborn\\_oldcore.py:1119: FutureWarning: use_inf_as_na option is deprecated and will be removed in a future version. Convert inf values to NaN before operating instead.\n",
      "  with pd.option_context('mode.use_inf_as_na', True):\n",
      "C:\\Users\\NSharma\\AppData\\Local\\Temp\\ipykernel_2412\\3739869737.py:4: UserWarning: \n",
      "\n",
      "`distplot` is a deprecated function and will be removed in seaborn v0.14.0.\n",
      "\n",
      "Please adapt your code to use either `displot` (a figure-level function with\n",
      "similar flexibility) or `kdeplot` (an axes-level function for kernel density plots).\n",
      "\n",
      "For a guide to updating your code to use the new functions, please see\n",
      "https://gist.github.com/mwaskom/de44147ed2974457ad6372750bbe5751\n",
      "\n",
      "  sns.distplot(y_hat,hist=False,color='b',label='Fitted Values', ax=ax1)\n",
      "c:\\Users\\NSharma\\Documents\\datascience\\HousingProject\\venv\\Lib\\site-packages\\seaborn\\_oldcore.py:1498: FutureWarning: is_categorical_dtype is deprecated and will be removed in a future version. Use isinstance(dtype, CategoricalDtype) instead\n",
      "  if pd.api.types.is_categorical_dtype(vector):\n",
      "c:\\Users\\NSharma\\Documents\\datascience\\HousingProject\\venv\\Lib\\site-packages\\seaborn\\_oldcore.py:1119: FutureWarning: use_inf_as_na option is deprecated and will be removed in a future version. Convert inf values to NaN before operating instead.\n",
      "  with pd.option_context('mode.use_inf_as_na', True):\n"
     ]
    },
    {
     "data": {
      "image/png": "[encoded data removed]",
      "text/plain": [
       "<Figure size 2000x1500 with 1 Axes>"
      ]
     },
     "metadata": {},
     "output_type": "display_data"
    }
   ],
   "source": [
    "plt.figure(figsize=(20,15))\n",
    "\n",
    "ax1=sns.distplot(target_test,hist=False,color='r',label='Actual Value')\n",
    "sns.distplot(y_hat,hist=False,color='b',label='Fitted Values', ax=ax1)\n",
    "\n",
    "plt.title(\"Actual vs Fitted Values for Price\")\n",
    "plt.xlabel('all features')\n",
    "plt.ylabel('housing_median_value')\n",
    "plt.legend\n",
    "plt.show()\n"
   ]
  },
  {
   "cell_type": "code",
   "execution_count": 47,
   "metadata": {},
   "outputs": [
    {
     "name": "stdout",
     "output_type": "stream",
     "text": [
      "The R2 score for Multiple Linear Regression is 0.6069510861981935\n"
     ]
    }
   ],
   "source": [
    "from sklearn.metrics import r2_score\n",
    "r_squared = r2_score(target_test,y_hat)\n",
    "print(f\"The R2 score for Multiple Linear Regression is {r_squared}\")"
   ]
  },
  {
   "cell_type": "code",
   "execution_count": null,
   "metadata": {},
   "outputs": [],
   "source": []
  }
 ],
 "metadata": {
  "kernelspec": {
   "display_name": "Python 3",
   "language": "python",
   "name": "python3"
  },
  "language_info": {
   "codemirror_mode": {
    "name": "ipython",
    "version": 3
   },
   "file_extension": ".py",
   "mimetype": "text/x-python",
   "name": "python",
   "nbconvert_exporter": "python",
   "pygments_lexer": "ipython3",
   "version": "3.11.5"
  },
  "orig_nbformat": 4
 },
 "nbformat": 4,
 "nbformat_minor": 2
}
