{
 "cells": [
  {
   "cell_type": "code",
   "execution_count": 1,
   "metadata": {},
   "outputs": [],
   "source": [
    "import pandas as pd\n",
    "import numpy as np\n",
    "import seaborn as sns\n",
    "import scipy as sp\n",
    "import sklearn\n",
    "import matplotlib.pyplot as plt\n"
   ]
  },
  {
   "cell_type": "markdown",
   "metadata": {},
   "source": [
    "# Step - 4: Set for feature enginering"
   ]
  },
  {
   "cell_type": "markdown",
   "metadata": {},
   "source": [
    "Let's take a set with only selected features"
   ]
  },
  {
   "cell_type": "code",
   "execution_count": 2,
   "metadata": {},
   "outputs": [],
   "source": [
    "feature_set=pd.read_csv(r'C:\\Users\\NSharma\\Documents\\datascience\\HousingProject\\dataset\\feature_train_set')"
   ]
  },
  {
   "cell_type": "code",
   "execution_count": 3,
   "metadata": {},
   "outputs": [],
   "source": [
    "df=feature_set.copy()"
   ]
  },
  {
   "cell_type": "code",
   "execution_count": 4,
   "metadata": {},
   "outputs": [
    {
     "name": "stdout",
     "output_type": "stream",
     "text": [
      "<class 'pandas.core.frame.DataFrame'>\n",
      "RangeIndex: 16512 entries, 0 to 16511\n",
      "Data columns (total 6 columns):\n",
      " #   Column                   Non-Null Count  Dtype  \n",
      "---  ------                   --------------  -----  \n",
      " 0   Unnamed: 0               16512 non-null  int64  \n",
      " 1   longitude                16512 non-null  float64\n",
      " 2   latitude                 16512 non-null  float64\n",
      " 3   median_income            16512 non-null  float64\n",
      " 4   ocean_proximity          16512 non-null  object \n",
      " 5   total_bedrooms_per_room  16512 non-null  float64\n",
      "dtypes: float64(4), int64(1), object(1)\n",
      "memory usage: 774.1+ KB\n"
     ]
    }
   ],
   "source": [
    "df.info()"
   ]
  },
  {
   "cell_type": "code",
   "execution_count": 5,
   "metadata": {},
   "outputs": [],
   "source": [
    "df.drop('Unnamed: 0',axis=1,inplace = True)"
   ]
  },
  {
   "cell_type": "code",
   "execution_count": 6,
   "metadata": {},
   "outputs": [
    {
     "name": "stdout",
     "output_type": "stream",
     "text": [
      "<class 'pandas.core.frame.DataFrame'>\n",
      "RangeIndex: 16512 entries, 0 to 16511\n",
      "Data columns (total 5 columns):\n",
      " #   Column                   Non-Null Count  Dtype  \n",
      "---  ------                   --------------  -----  \n",
      " 0   longitude                16512 non-null  float64\n",
      " 1   latitude                 16512 non-null  float64\n",
      " 2   median_income            16512 non-null  float64\n",
      " 3   ocean_proximity          16512 non-null  object \n",
      " 4   total_bedrooms_per_room  16512 non-null  float64\n",
      "dtypes: float64(4), object(1)\n",
      "memory usage: 645.1+ KB\n"
     ]
    }
   ],
   "source": [
    "df.info()"
   ]
  },
  {
   "cell_type": "markdown",
   "metadata": {},
   "source": [
    "# Step-5: Encode categoerical variables"
   ]
  },
  {
   "cell_type": "markdown",
   "metadata": {},
   "source": [
    "Let's encode for regression"
   ]
  },
  {
   "cell_type": "code",
   "execution_count": 7,
   "metadata": {},
   "outputs": [
    {
     "data": {
      "text/plain": [
       "ocean_proximity\n",
       "<1H OCEAN     7313\n",
       "INLAND        5276\n",
       "NEAR OCEAN    2091\n",
       "NEAR BAY      1827\n",
       "ISLAND           5\n",
       "Name: count, dtype: int64"
      ]
     },
     "execution_count": 7,
     "metadata": {},
     "output_type": "execute_result"
    }
   ],
   "source": [
    "df['ocean_proximity'].value_counts()"
   ]
  },
  {
   "cell_type": "code",
   "execution_count": 11,
   "metadata": {},
   "outputs": [],
   "source": [
    "dummy_variables = pd.get_dummies(df['ocean_proximity'])\n",
    "dummy_variables.columns\n",
    "dummy_variables[['<1H OCEAN', 'INLAND', 'ISLAND', 'NEAR BAY', 'NEAR OCEAN']]=dummy_variables[['<1H OCEAN', 'INLAND', 'ISLAND', 'NEAR BAY', 'NEAR OCEAN']].astype('int')"
   ]
  },
  {
   "cell_type": "code",
   "execution_count": 12,
   "metadata": {},
   "outputs": [
    {
     "name": "stdout",
     "output_type": "stream",
     "text": [
      "<class 'pandas.core.frame.DataFrame'>\n",
      "RangeIndex: 16512 entries, 0 to 16511\n",
      "Data columns (total 5 columns):\n",
      " #   Column      Non-Null Count  Dtype\n",
      "---  ------      --------------  -----\n",
      " 0   <1H OCEAN   16512 non-null  int32\n",
      " 1   INLAND      16512 non-null  int32\n",
      " 2   ISLAND      16512 non-null  int32\n",
      " 3   NEAR BAY    16512 non-null  int32\n",
      " 4   NEAR OCEAN  16512 non-null  int32\n",
      "dtypes: int32(5)\n",
      "memory usage: 322.6 KB\n"
     ]
    }
   ],
   "source": [
    "dummy_variables.info()"
   ]
  },
  {
   "cell_type": "code",
   "execution_count": 13,
   "metadata": {},
   "outputs": [],
   "source": [
    "df=pd.concat([df,dummy_variables],axis=1)\n",
    "\n"
   ]
  },
  {
   "cell_type": "code",
   "execution_count": 14,
   "metadata": {},
   "outputs": [
    {
     "data": {
      "text/html": [
       "<div>\n",
       "<style scoped>\n",
       "    .dataframe tbody tr th:only-of-type {\n",
       "        vertical-align: middle;\n",
       "    }\n",
       "\n",
       "    .dataframe tbody tr th {\n",
       "        vertical-align: top;\n",
       "    }\n",
       "\n",
       "    .dataframe thead th {\n",
       "        text-align: right;\n",
       "    }\n",
       "</style>\n",
       "<table border=\"1\" class=\"dataframe\">\n",
       "  <thead>\n",
       "    <tr style=\"text-align: right;\">\n",
       "      <th></th>\n",
       "      <th>longitude</th>\n",
       "      <th>latitude</th>\n",
       "      <th>median_income</th>\n",
       "      <th>ocean_proximity</th>\n",
       "      <th>total_bedrooms_per_room</th>\n",
       "      <th>&lt;1H OCEAN</th>\n",
       "      <th>INLAND</th>\n",
       "      <th>ISLAND</th>\n",
       "      <th>NEAR BAY</th>\n",
       "      <th>NEAR OCEAN</th>\n",
       "    </tr>\n",
       "  </thead>\n",
       "  <tbody>\n",
       "    <tr>\n",
       "      <th>0</th>\n",
       "      <td>-117.22</td>\n",
       "      <td>32.75</td>\n",
       "      <td>4.5878</td>\n",
       "      <td>NEAR OCEAN</td>\n",
       "      <td>0.185136</td>\n",
       "      <td>0</td>\n",
       "      <td>0</td>\n",
       "      <td>0</td>\n",
       "      <td>0</td>\n",
       "      <td>1</td>\n",
       "    </tr>\n",
       "    <tr>\n",
       "      <th>1</th>\n",
       "      <td>-117.03</td>\n",
       "      <td>32.69</td>\n",
       "      <td>4.6648</td>\n",
       "      <td>NEAR OCEAN</td>\n",
       "      <td>0.180910</td>\n",
       "      <td>0</td>\n",
       "      <td>0</td>\n",
       "      <td>0</td>\n",
       "      <td>0</td>\n",
       "      <td>1</td>\n",
       "    </tr>\n",
       "    <tr>\n",
       "      <th>2</th>\n",
       "      <td>-122.27</td>\n",
       "      <td>37.74</td>\n",
       "      <td>3.6875</td>\n",
       "      <td>NEAR BAY</td>\n",
       "      <td>0.224924</td>\n",
       "      <td>0</td>\n",
       "      <td>0</td>\n",
       "      <td>0</td>\n",
       "      <td>1</td>\n",
       "      <td>0</td>\n",
       "    </tr>\n",
       "    <tr>\n",
       "      <th>3</th>\n",
       "      <td>-121.82</td>\n",
       "      <td>37.25</td>\n",
       "      <td>5.1663</td>\n",
       "      <td>&lt;1H OCEAN</td>\n",
       "      <td>0.157672</td>\n",
       "      <td>1</td>\n",
       "      <td>0</td>\n",
       "      <td>0</td>\n",
       "      <td>0</td>\n",
       "      <td>0</td>\n",
       "    </tr>\n",
       "    <tr>\n",
       "      <th>4</th>\n",
       "      <td>-115.98</td>\n",
       "      <td>33.32</td>\n",
       "      <td>1.4688</td>\n",
       "      <td>INLAND</td>\n",
       "      <td>0.191667</td>\n",
       "      <td>0</td>\n",
       "      <td>1</td>\n",
       "      <td>0</td>\n",
       "      <td>0</td>\n",
       "      <td>0</td>\n",
       "    </tr>\n",
       "  </tbody>\n",
       "</table>\n",
       "</div>"
      ],
      "text/plain": [
       "   longitude  latitude  median_income ocean_proximity  \\\n",
       "0    -117.22     32.75         4.5878      NEAR OCEAN   \n",
       "1    -117.03     32.69         4.6648      NEAR OCEAN   \n",
       "2    -122.27     37.74         3.6875        NEAR BAY   \n",
       "3    -121.82     37.25         5.1663       <1H OCEAN   \n",
       "4    -115.98     33.32         1.4688          INLAND   \n",
       "\n",
       "   total_bedrooms_per_room  <1H OCEAN  INLAND  ISLAND  NEAR BAY  NEAR OCEAN  \n",
       "0                 0.185136          0       0       0         0           1  \n",
       "1                 0.180910          0       0       0         0           1  \n",
       "2                 0.224924          0       0       0         1           0  \n",
       "3                 0.157672          1       0       0         0           0  \n",
       "4                 0.191667          0       1       0         0           0  "
      ]
     },
     "execution_count": 14,
     "metadata": {},
     "output_type": "execute_result"
    }
   ],
   "source": [
    "df.head()"
   ]
  },
  {
   "cell_type": "code",
   "execution_count": 15,
   "metadata": {},
   "outputs": [],
   "source": [
    "df.drop('ocean_proximity',axis=1,inplace=True)"
   ]
  },
  {
   "cell_type": "code",
   "execution_count": 16,
   "metadata": {},
   "outputs": [
    {
     "name": "stdout",
     "output_type": "stream",
     "text": [
      "<class 'pandas.core.frame.DataFrame'>\n",
      "RangeIndex: 16512 entries, 0 to 16511\n",
      "Data columns (total 9 columns):\n",
      " #   Column                   Non-Null Count  Dtype  \n",
      "---  ------                   --------------  -----  \n",
      " 0   longitude                16512 non-null  float64\n",
      " 1   latitude                 16512 non-null  float64\n",
      " 2   median_income            16512 non-null  float64\n",
      " 3   total_bedrooms_per_room  16512 non-null  float64\n",
      " 4   <1H OCEAN                16512 non-null  int32  \n",
      " 5   INLAND                   16512 non-null  int32  \n",
      " 6   ISLAND                   16512 non-null  int32  \n",
      " 7   NEAR BAY                 16512 non-null  int32  \n",
      " 8   NEAR OCEAN               16512 non-null  int32  \n",
      "dtypes: float64(4), int32(5)\n",
      "memory usage: 838.6 KB\n"
     ]
    }
   ],
   "source": [
    "df.info()"
   ]
  },
  {
   "cell_type": "code",
   "execution_count": 17,
   "metadata": {},
   "outputs": [
    {
     "data": {
      "text/html": [
       "<div>\n",
       "<style scoped>\n",
       "    .dataframe tbody tr th:only-of-type {\n",
       "        vertical-align: middle;\n",
       "    }\n",
       "\n",
       "    .dataframe tbody tr th {\n",
       "        vertical-align: top;\n",
       "    }\n",
       "\n",
       "    .dataframe thead th {\n",
       "        text-align: right;\n",
       "    }\n",
       "</style>\n",
       "<table border=\"1\" class=\"dataframe\">\n",
       "  <thead>\n",
       "    <tr style=\"text-align: right;\">\n",
       "      <th></th>\n",
       "      <th>longitude</th>\n",
       "      <th>latitude</th>\n",
       "      <th>median_income</th>\n",
       "      <th>total_bedrooms_per_room</th>\n",
       "      <th>&lt;1H OCEAN</th>\n",
       "      <th>INLAND</th>\n",
       "      <th>ISLAND</th>\n",
       "      <th>NEAR BAY</th>\n",
       "      <th>NEAR OCEAN</th>\n",
       "    </tr>\n",
       "  </thead>\n",
       "  <tbody>\n",
       "    <tr>\n",
       "      <th>0</th>\n",
       "      <td>-117.22</td>\n",
       "      <td>32.75</td>\n",
       "      <td>4.5878</td>\n",
       "      <td>0.185136</td>\n",
       "      <td>0</td>\n",
       "      <td>0</td>\n",
       "      <td>0</td>\n",
       "      <td>0</td>\n",
       "      <td>1</td>\n",
       "    </tr>\n",
       "    <tr>\n",
       "      <th>1</th>\n",
       "      <td>-117.03</td>\n",
       "      <td>32.69</td>\n",
       "      <td>4.6648</td>\n",
       "      <td>0.180910</td>\n",
       "      <td>0</td>\n",
       "      <td>0</td>\n",
       "      <td>0</td>\n",
       "      <td>0</td>\n",
       "      <td>1</td>\n",
       "    </tr>\n",
       "    <tr>\n",
       "      <th>2</th>\n",
       "      <td>-122.27</td>\n",
       "      <td>37.74</td>\n",
       "      <td>3.6875</td>\n",
       "      <td>0.224924</td>\n",
       "      <td>0</td>\n",
       "      <td>0</td>\n",
       "      <td>0</td>\n",
       "      <td>1</td>\n",
       "      <td>0</td>\n",
       "    </tr>\n",
       "    <tr>\n",
       "      <th>3</th>\n",
       "      <td>-121.82</td>\n",
       "      <td>37.25</td>\n",
       "      <td>5.1663</td>\n",
       "      <td>0.157672</td>\n",
       "      <td>1</td>\n",
       "      <td>0</td>\n",
       "      <td>0</td>\n",
       "      <td>0</td>\n",
       "      <td>0</td>\n",
       "    </tr>\n",
       "    <tr>\n",
       "      <th>4</th>\n",
       "      <td>-115.98</td>\n",
       "      <td>33.32</td>\n",
       "      <td>1.4688</td>\n",
       "      <td>0.191667</td>\n",
       "      <td>0</td>\n",
       "      <td>1</td>\n",
       "      <td>0</td>\n",
       "      <td>0</td>\n",
       "      <td>0</td>\n",
       "    </tr>\n",
       "  </tbody>\n",
       "</table>\n",
       "</div>"
      ],
      "text/plain": [
       "   longitude  latitude  median_income  total_bedrooms_per_room  <1H OCEAN  \\\n",
       "0    -117.22     32.75         4.5878                 0.185136          0   \n",
       "1    -117.03     32.69         4.6648                 0.180910          0   \n",
       "2    -122.27     37.74         3.6875                 0.224924          0   \n",
       "3    -121.82     37.25         5.1663                 0.157672          1   \n",
       "4    -115.98     33.32         1.4688                 0.191667          0   \n",
       "\n",
       "   INLAND  ISLAND  NEAR BAY  NEAR OCEAN  \n",
       "0       0       0         0           1  \n",
       "1       0       0         0           1  \n",
       "2       0       0         1           0  \n",
       "3       0       0         0           0  \n",
       "4       1       0         0           0  "
      ]
     },
     "execution_count": 17,
     "metadata": {},
     "output_type": "execute_result"
    }
   ],
   "source": [
    "df.head()"
   ]
  },
  {
   "cell_type": "code",
   "execution_count": 18,
   "metadata": {},
   "outputs": [
    {
     "data": {
      "text/html": [
       "<div>\n",
       "<style scoped>\n",
       "    .dataframe tbody tr th:only-of-type {\n",
       "        vertical-align: middle;\n",
       "    }\n",
       "\n",
       "    .dataframe tbody tr th {\n",
       "        vertical-align: top;\n",
       "    }\n",
       "\n",
       "    .dataframe thead th {\n",
       "        text-align: right;\n",
       "    }\n",
       "</style>\n",
       "<table border=\"1\" class=\"dataframe\">\n",
       "  <thead>\n",
       "    <tr style=\"text-align: right;\">\n",
       "      <th></th>\n",
       "      <th>longitude</th>\n",
       "      <th>latitude</th>\n",
       "      <th>median_income</th>\n",
       "      <th>total_bedrooms_per_room</th>\n",
       "      <th>&lt;1H OCEAN</th>\n",
       "      <th>INLAND</th>\n",
       "      <th>ISLAND</th>\n",
       "      <th>NEAR BAY</th>\n",
       "      <th>NEAR OCEAN</th>\n",
       "    </tr>\n",
       "  </thead>\n",
       "  <tbody>\n",
       "    <tr>\n",
       "      <th>count</th>\n",
       "      <td>16512.000000</td>\n",
       "      <td>16512.000000</td>\n",
       "      <td>16512.000000</td>\n",
       "      <td>16512.000000</td>\n",
       "      <td>16512.000000</td>\n",
       "      <td>16512.000000</td>\n",
       "      <td>16512.000000</td>\n",
       "      <td>16512.000000</td>\n",
       "      <td>16512.000000</td>\n",
       "    </tr>\n",
       "    <tr>\n",
       "      <th>mean</th>\n",
       "      <td>-119.565121</td>\n",
       "      <td>35.631252</td>\n",
       "      <td>3.863585</td>\n",
       "      <td>0.212850</td>\n",
       "      <td>0.442890</td>\n",
       "      <td>0.319525</td>\n",
       "      <td>0.000303</td>\n",
       "      <td>0.110647</td>\n",
       "      <td>0.126635</td>\n",
       "    </tr>\n",
       "    <tr>\n",
       "      <th>std</th>\n",
       "      <td>1.999323</td>\n",
       "      <td>2.133670</td>\n",
       "      <td>1.907402</td>\n",
       "      <td>0.060708</td>\n",
       "      <td>0.496743</td>\n",
       "      <td>0.466307</td>\n",
       "      <td>0.017399</td>\n",
       "      <td>0.313704</td>\n",
       "      <td>0.332574</td>\n",
       "    </tr>\n",
       "    <tr>\n",
       "      <th>min</th>\n",
       "      <td>-124.350000</td>\n",
       "      <td>32.540000</td>\n",
       "      <td>0.499900</td>\n",
       "      <td>0.027272</td>\n",
       "      <td>0.000000</td>\n",
       "      <td>0.000000</td>\n",
       "      <td>0.000000</td>\n",
       "      <td>0.000000</td>\n",
       "      <td>0.000000</td>\n",
       "    </tr>\n",
       "    <tr>\n",
       "      <th>25%</th>\n",
       "      <td>-121.780000</td>\n",
       "      <td>33.940000</td>\n",
       "      <td>2.561150</td>\n",
       "      <td>0.175014</td>\n",
       "      <td>0.000000</td>\n",
       "      <td>0.000000</td>\n",
       "      <td>0.000000</td>\n",
       "      <td>0.000000</td>\n",
       "      <td>0.000000</td>\n",
       "    </tr>\n",
       "    <tr>\n",
       "      <th>50%</th>\n",
       "      <td>-118.490000</td>\n",
       "      <td>34.250000</td>\n",
       "      <td>3.524600</td>\n",
       "      <td>0.202845</td>\n",
       "      <td>0.000000</td>\n",
       "      <td>0.000000</td>\n",
       "      <td>0.000000</td>\n",
       "      <td>0.000000</td>\n",
       "      <td>0.000000</td>\n",
       "    </tr>\n",
       "    <tr>\n",
       "      <th>75%</th>\n",
       "      <td>-118.010000</td>\n",
       "      <td>37.720000</td>\n",
       "      <td>4.727000</td>\n",
       "      <td>0.240032</td>\n",
       "      <td>1.000000</td>\n",
       "      <td>1.000000</td>\n",
       "      <td>0.000000</td>\n",
       "      <td>0.000000</td>\n",
       "      <td>0.000000</td>\n",
       "    </tr>\n",
       "    <tr>\n",
       "      <th>max</th>\n",
       "      <td>-114.310000</td>\n",
       "      <td>41.950000</td>\n",
       "      <td>15.000100</td>\n",
       "      <td>1.818182</td>\n",
       "      <td>1.000000</td>\n",
       "      <td>1.000000</td>\n",
       "      <td>1.000000</td>\n",
       "      <td>1.000000</td>\n",
       "      <td>1.000000</td>\n",
       "    </tr>\n",
       "  </tbody>\n",
       "</table>\n",
       "</div>"
      ],
      "text/plain": [
       "          longitude      latitude  median_income  total_bedrooms_per_room  \\\n",
       "count  16512.000000  16512.000000   16512.000000             16512.000000   \n",
       "mean    -119.565121     35.631252       3.863585                 0.212850   \n",
       "std        1.999323      2.133670       1.907402                 0.060708   \n",
       "min     -124.350000     32.540000       0.499900                 0.027272   \n",
       "25%     -121.780000     33.940000       2.561150                 0.175014   \n",
       "50%     -118.490000     34.250000       3.524600                 0.202845   \n",
       "75%     -118.010000     37.720000       4.727000                 0.240032   \n",
       "max     -114.310000     41.950000      15.000100                 1.818182   \n",
       "\n",
       "          <1H OCEAN        INLAND        ISLAND      NEAR BAY    NEAR OCEAN  \n",
       "count  16512.000000  16512.000000  16512.000000  16512.000000  16512.000000  \n",
       "mean       0.442890      0.319525      0.000303      0.110647      0.126635  \n",
       "std        0.496743      0.466307      0.017399      0.313704      0.332574  \n",
       "min        0.000000      0.000000      0.000000      0.000000      0.000000  \n",
       "25%        0.000000      0.000000      0.000000      0.000000      0.000000  \n",
       "50%        0.000000      0.000000      0.000000      0.000000      0.000000  \n",
       "75%        1.000000      1.000000      0.000000      0.000000      0.000000  \n",
       "max        1.000000      1.000000      1.000000      1.000000      1.000000  "
      ]
     },
     "execution_count": 18,
     "metadata": {},
     "output_type": "execute_result"
    }
   ],
   "source": [
    "df.describe()"
   ]
  },
  {
   "cell_type": "markdown",
   "metadata": {},
   "source": [
    "Let's drop ocean and near bay features too as we saw they don't affect target variable much"
   ]
  },
  {
   "cell_type": "code",
   "execution_count": 19,
   "metadata": {},
   "outputs": [
    {
     "data": {
      "text/plain": [
       "Index(['longitude', 'latitude', 'median_income', 'total_bedrooms_per_room',\n",
       "       '<1H OCEAN', 'INLAND', 'ISLAND', 'NEAR BAY', 'NEAR OCEAN'],\n",
       "      dtype='object')"
      ]
     },
     "execution_count": 19,
     "metadata": {},
     "output_type": "execute_result"
    }
   ],
   "source": [
    "df.columns"
   ]
  },
  {
   "cell_type": "code",
   "execution_count": 20,
   "metadata": {},
   "outputs": [],
   "source": [
    "df.drop(['<1H OCEAN', 'NEAR BAY', 'NEAR OCEAN'],axis=1,inplace=True)"
   ]
  },
  {
   "cell_type": "code",
   "execution_count": 21,
   "metadata": {},
   "outputs": [
    {
     "data": {
      "text/html": [
       "<div>\n",
       "<style scoped>\n",
       "    .dataframe tbody tr th:only-of-type {\n",
       "        vertical-align: middle;\n",
       "    }\n",
       "\n",
       "    .dataframe tbody tr th {\n",
       "        vertical-align: top;\n",
       "    }\n",
       "\n",
       "    .dataframe thead th {\n",
       "        text-align: right;\n",
       "    }\n",
       "</style>\n",
       "<table border=\"1\" class=\"dataframe\">\n",
       "  <thead>\n",
       "    <tr style=\"text-align: right;\">\n",
       "      <th></th>\n",
       "      <th>longitude</th>\n",
       "      <th>latitude</th>\n",
       "      <th>median_income</th>\n",
       "      <th>total_bedrooms_per_room</th>\n",
       "      <th>INLAND</th>\n",
       "      <th>ISLAND</th>\n",
       "    </tr>\n",
       "  </thead>\n",
       "  <tbody>\n",
       "    <tr>\n",
       "      <th>0</th>\n",
       "      <td>-117.22</td>\n",
       "      <td>32.75</td>\n",
       "      <td>4.5878</td>\n",
       "      <td>0.185136</td>\n",
       "      <td>0</td>\n",
       "      <td>0</td>\n",
       "    </tr>\n",
       "    <tr>\n",
       "      <th>1</th>\n",
       "      <td>-117.03</td>\n",
       "      <td>32.69</td>\n",
       "      <td>4.6648</td>\n",
       "      <td>0.180910</td>\n",
       "      <td>0</td>\n",
       "      <td>0</td>\n",
       "    </tr>\n",
       "    <tr>\n",
       "      <th>2</th>\n",
       "      <td>-122.27</td>\n",
       "      <td>37.74</td>\n",
       "      <td>3.6875</td>\n",
       "      <td>0.224924</td>\n",
       "      <td>0</td>\n",
       "      <td>0</td>\n",
       "    </tr>\n",
       "    <tr>\n",
       "      <th>3</th>\n",
       "      <td>-121.82</td>\n",
       "      <td>37.25</td>\n",
       "      <td>5.1663</td>\n",
       "      <td>0.157672</td>\n",
       "      <td>0</td>\n",
       "      <td>0</td>\n",
       "    </tr>\n",
       "    <tr>\n",
       "      <th>4</th>\n",
       "      <td>-115.98</td>\n",
       "      <td>33.32</td>\n",
       "      <td>1.4688</td>\n",
       "      <td>0.191667</td>\n",
       "      <td>1</td>\n",
       "      <td>0</td>\n",
       "    </tr>\n",
       "  </tbody>\n",
       "</table>\n",
       "</div>"
      ],
      "text/plain": [
       "   longitude  latitude  median_income  total_bedrooms_per_room  INLAND  ISLAND\n",
       "0    -117.22     32.75         4.5878                 0.185136       0       0\n",
       "1    -117.03     32.69         4.6648                 0.180910       0       0\n",
       "2    -122.27     37.74         3.6875                 0.224924       0       0\n",
       "3    -121.82     37.25         5.1663                 0.157672       0       0\n",
       "4    -115.98     33.32         1.4688                 0.191667       1       0"
      ]
     },
     "execution_count": 21,
     "metadata": {},
     "output_type": "execute_result"
    }
   ],
   "source": [
    "df.head()"
   ]
  },
  {
   "cell_type": "code",
   "execution_count": 23,
   "metadata": {},
   "outputs": [
    {
     "data": {
      "text/plain": [
       "Index(['longitude', 'latitude', 'median_income', 'total_bedrooms_per_room',\n",
       "       'INLAND', 'ISLAND'],\n",
       "      dtype='object')"
      ]
     },
     "execution_count": 23,
     "metadata": {},
     "output_type": "execute_result"
    }
   ],
   "source": [
    "df.columns"
   ]
  },
  {
   "cell_type": "markdown",
   "metadata": {},
   "source": [
    "# Step-6: Normalize"
   ]
  },
  {
   "cell_type": "markdown",
   "metadata": {},
   "source": [
    "Let's normalize using standard scalar"
   ]
  },
  {
   "cell_type": "code",
   "execution_count": 26,
   "metadata": {},
   "outputs": [],
   "source": [
    "for col in df.columns.to_list():\n",
    "    df[col]=(df[col]-df[col].mean())/df[col].std()"
   ]
  },
  {
   "cell_type": "code",
   "execution_count": 27,
   "metadata": {},
   "outputs": [
    {
     "data": {
      "text/html": [
       "<div>\n",
       "<style scoped>\n",
       "    .dataframe tbody tr th:only-of-type {\n",
       "        vertical-align: middle;\n",
       "    }\n",
       "\n",
       "    .dataframe tbody tr th {\n",
       "        vertical-align: top;\n",
       "    }\n",
       "\n",
       "    .dataframe thead th {\n",
       "        text-align: right;\n",
       "    }\n",
       "</style>\n",
       "<table border=\"1\" class=\"dataframe\">\n",
       "  <thead>\n",
       "    <tr style=\"text-align: right;\">\n",
       "      <th></th>\n",
       "      <th>longitude</th>\n",
       "      <th>latitude</th>\n",
       "      <th>median_income</th>\n",
       "      <th>total_bedrooms_per_room</th>\n",
       "      <th>INLAND</th>\n",
       "      <th>ISLAND</th>\n",
       "    </tr>\n",
       "  </thead>\n",
       "  <tbody>\n",
       "    <tr>\n",
       "      <th>0</th>\n",
       "      <td>1.172958</td>\n",
       "      <td>-1.350374</td>\n",
       "      <td>0.379686</td>\n",
       "      <td>-0.456507</td>\n",
       "      <td>-0.685225</td>\n",
       "      <td>-0.017404</td>\n",
       "    </tr>\n",
       "    <tr>\n",
       "      <th>1</th>\n",
       "      <td>1.267990</td>\n",
       "      <td>-1.378495</td>\n",
       "      <td>0.420056</td>\n",
       "      <td>-0.526113</td>\n",
       "      <td>-0.685225</td>\n",
       "      <td>-0.017404</td>\n",
       "    </tr>\n",
       "    <tr>\n",
       "      <th>2</th>\n",
       "      <td>-1.352898</td>\n",
       "      <td>0.988319</td>\n",
       "      <td>-0.092317</td>\n",
       "      <td>0.198892</td>\n",
       "      <td>-0.685225</td>\n",
       "      <td>-0.017404</td>\n",
       "    </tr>\n",
       "    <tr>\n",
       "      <th>3</th>\n",
       "      <td>-1.127822</td>\n",
       "      <td>0.758668</td>\n",
       "      <td>0.682979</td>\n",
       "      <td>-0.908892</td>\n",
       "      <td>-0.685225</td>\n",
       "      <td>-0.017404</td>\n",
       "    </tr>\n",
       "    <tr>\n",
       "      <th>4</th>\n",
       "      <td>1.793168</td>\n",
       "      <td>-1.083229</td>\n",
       "      <td>-1.255522</td>\n",
       "      <td>-0.348929</td>\n",
       "      <td>1.459286</td>\n",
       "      <td>-0.017404</td>\n",
       "    </tr>\n",
       "  </tbody>\n",
       "</table>\n",
       "</div>"
      ],
      "text/plain": [
       "   longitude  latitude  median_income  total_bedrooms_per_room    INLAND  \\\n",
       "0   1.172958 -1.350374       0.379686                -0.456507 -0.685225   \n",
       "1   1.267990 -1.378495       0.420056                -0.526113 -0.685225   \n",
       "2  -1.352898  0.988319      -0.092317                 0.198892 -0.685225   \n",
       "3  -1.127822  0.758668       0.682979                -0.908892 -0.685225   \n",
       "4   1.793168 -1.083229      -1.255522                -0.348929  1.459286   \n",
       "\n",
       "     ISLAND  \n",
       "0 -0.017404  \n",
       "1 -0.017404  \n",
       "2 -0.017404  \n",
       "3 -0.017404  \n",
       "4 -0.017404  "
      ]
     },
     "execution_count": 27,
     "metadata": {},
     "output_type": "execute_result"
    }
   ],
   "source": [
    "df.head()"
   ]
  },
  {
   "cell_type": "code",
   "execution_count": null,
   "metadata": {},
   "outputs": [],
   "source": []
  }
 ],
 "metadata": {
  "kernelspec": {
   "display_name": "Python 3",
   "language": "python",
   "name": "python3"
  },
  "language_info": {
   "codemirror_mode": {
    "name": "ipython",
    "version": 3
   },
   "file_extension": ".py",
   "mimetype": "text/x-python",
   "name": "python",
   "nbconvert_exporter": "python",
   "pygments_lexer": "ipython3",
   "version": "3.11.5"
  },
  "orig_nbformat": 4
 },
 "nbformat": 4,
 "nbformat_minor": 2
}
